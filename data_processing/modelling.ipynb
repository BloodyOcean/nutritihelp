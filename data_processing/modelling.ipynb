{
 "cells": [
  {
   "cell_type": "code",
   "execution_count": 7,
   "id": "ca0d55bc-0b21-4ae6-b9b8-91d7f9a53c94",
   "metadata": {},
   "outputs": [],
   "source": [
    "!pip freeze > requirenmets.txt"
   ]
  },
  {
   "cell_type": "code",
   "execution_count": 1,
   "id": "faef4c07-4f3e-4da5-a6dc-8626d58e8b7d",
   "metadata": {},
   "outputs": [],
   "source": [
    "import pandas as pd"
   ]
  },
  {
   "cell_type": "code",
   "execution_count": 4,
   "id": "41390e4e-4f7e-430f-a81c-fb6f79c2798b",
   "metadata": {},
   "outputs": [],
   "source": [
    "# Returns a TextFileReader, which is iterable with chunks of 1000 rows\n",
    "df = pd.DataFrame()\n",
    "for chunk in  pd.read_csv('./food_data.csv', on_bad_lines='skip', engine='c', sep='\\t', low_memory=False, iterator=True, quotechar='\"', chunksize=300000):\n",
    "    df = pd.concat([df, chunk], ignore_index=True)"
   ]
  },
  {
   "cell_type": "code",
   "execution_count": null,
   "id": "eed3b03f-71d3-4c1a-9aae-6b6fb28f62c4",
   "metadata": {},
   "outputs": [],
   "source": [
    "df_stage['nutrient_levels_tags_list'] = df_stage['nutrient_levels_tags'].apply(lambda x: x.split(','))"
   ]
  },
  {
   "cell_type": "code",
   "execution_count": null,
   "id": "7a813c93-4286-4fbe-af9e-10aefd232c84",
   "metadata": {},
   "outputs": [],
   "source": [
    "from sklearn.preprocessing import MultiLabelBinarizer\n",
    "\n",
    "mlb = MultiLabelBinarizer()\n",
    "one_hot_encoded = mlb.fit_transform(df_stage['nutrient_levels_tags_list'])\n",
    "df_one_hot = pd.DataFrame(one_hot_encoded, columns=mlb.classes_)"
   ]
  },
  {
   "cell_type": "code",
   "execution_count": null,
   "id": "1fab4170-254d-4c08-94f4-5bbf00bcb23e",
   "metadata": {},
   "outputs": [],
   "source": [
    "df_stage = pd.concat([df_stage, df_one_hot], axis=1)\n",
    "df_stage.drop(columns=['nutrient_levels_tags', 'nutrient_levels_tags_list'], inplace=True)"
   ]
  },
  {
   "cell_type": "code",
   "execution_count": null,
   "id": "4abe06d7-ded8-4f31-8b81-728c8b20cd32",
   "metadata": {},
   "outputs": [],
   "source": [
    "from sklearn.preprocessing import OrdinalEncoder\n",
    "ord_enc = OrdinalEncoder()\n",
    "df_stage[['nutriscore_grade', 'ecoscore_grade']] = ord_enc.fit_transform(df_stage[['nutriscore_grade', 'ecoscore_grade']])"
   ]
  },
  {
   "cell_type": "code",
   "execution_count": null,
   "id": "85bd68ec-bfd5-4c5b-b8ee-5250b81ac8ea",
   "metadata": {},
   "outputs": [],
   "source": [
    "# Data discretization\n",
    "df_stage['ecoscore_score'] = pd.cut(df_stage['ecoscore_score'], bins=10, labels=False)\n",
    "df_stage['nutriscore_score'] = pd.cut(df_stage['nutriscore_score'], bins=10, labels=False)\n",
    "df_stage['nutrition-score-fr_100g'] = pd.cut(df_stage['nutrition-score-fr_100g'], bins=10, labels=False)"
   ]
  },
  {
   "cell_type": "code",
   "execution_count": null,
   "id": "58af5574-bbe4-48be-8507-947d54e06965",
   "metadata": {},
   "outputs": [],
   "source": []
  }
 ],
 "metadata": {
  "kernelspec": {
   "display_name": "Python 3 (ipykernel)",
   "language": "python",
   "name": "python3"
  },
  "language_info": {
   "codemirror_mode": {
    "name": "ipython",
    "version": 3
   },
   "file_extension": ".py",
   "mimetype": "text/x-python",
   "name": "python",
   "nbconvert_exporter": "python",
   "pygments_lexer": "ipython3",
   "version": "3.10.11"
  }
 },
 "nbformat": 4,
 "nbformat_minor": 5
}
